{
 "cells": [
  {
   "cell_type": "markdown",
   "metadata": {},
   "source": [
    "# Parse Archived Statement of Votes, Orange County (CA)"
   ]
  },
  {
   "cell_type": "markdown",
   "metadata": {},
   "source": [
    "## Requirements"
   ]
  },
  {
   "cell_type": "code",
   "execution_count": 163,
   "metadata": {},
   "outputs": [],
   "source": [
    "#import sys\n",
    "#!{sys.executable} -m pip install requests\n",
    "#!{sys.executable} -m pip install beautifulsoup4\n",
    "\n",
    "import requests\n",
    "from bs4 import BeautifulSoup\n",
    "import re\n",
    "import zipfile\n",
    "import os\n",
    "import shutil\n",
    "import pandas as pd\n",
    "pd.options.mode.chained_assignment = None  # default='warn'\n",
    "\n",
    "import csv\n",
    "import numpy as np"
   ]
  },
  {
   "cell_type": "markdown",
   "metadata": {},
   "source": [
    "## Set URL parameters"
   ]
  },
  {
   "cell_type": "markdown",
   "metadata": {},
   "source": [
    "### Define function for creating temp directory"
   ]
  },
  {
   "cell_type": "code",
   "execution_count": 164,
   "metadata": {},
   "outputs": [],
   "source": [
    "def create_directory(path):\n",
    "    try:\n",
    "        # Create the directory if it doesn't exist\n",
    "        os.makedirs(path, exist_ok=True)\n",
    "    except Exception as e:\n",
    "        print(f\"Failed to create directory '{path}'. Reason: {e}\")"
   ]
  },
  {
   "cell_type": "markdown",
   "metadata": {},
   "source": [
    "### Define incoming and temp paths"
   ]
  },
  {
   "cell_type": "code",
   "execution_count": 165,
   "metadata": {},
   "outputs": [],
   "source": [
    "# URL to scrape\n",
    "url = 'https://www.ocvote.gov/data/election-results-archives/archived-statement-of-votes'\n",
    "\n",
    "# URL prefix\n",
    "url_prefix = 'https://www.ocvote.gov'\n",
    "\n",
    "# Local destination\n",
    "local_prefix = '/Users/alisonpitt/Documents/Data Sets/oc_vote/'\n",
    "create_directory(local_prefix)"
   ]
  },
  {
   "cell_type": "markdown",
   "metadata": {},
   "source": [
    "## Fetch and parse index page contents"
   ]
  },
  {
   "cell_type": "code",
   "execution_count": 166,
   "metadata": {},
   "outputs": [],
   "source": [
    "# Send a GET request to fetch the content of the page\n",
    "response = requests.get(url)\n",
    "\n",
    "# Parse the HTML content using BeautifulSoup\n",
    "soup = BeautifulSoup(response.text, 'html.parser')\n",
    "section = soup.find(class_=\"page__body\")\n",
    "list_of_values = section.find_all('p')"
   ]
  },
  {
   "cell_type": "markdown",
   "metadata": {},
   "source": [
    "## Parse site for headings and links"
   ]
  },
  {
   "cell_type": "code",
   "execution_count": 167,
   "metadata": {},
   "outputs": [
    {
     "data": {
      "text/plain": [
       "[(0,\n",
       "  'June 4, 2024 City of Anaheim District 3 Special Recall Election',\n",
       "  'Plain-text extract for data analysis (media.zip).',\n",
       "  'https://www.ocvote.gov/sites/default/files/elections/anarcl2024/results/media.zip',\n",
       "  'media.zip'),\n",
       " (1,\n",
       "  'March 5, 2024\\xa0Presidential Primary Election',\n",
       "  'Plain-text extract for data analysis (media.zip).',\n",
       "  'https://www.ocvote.gov/fileadmin/live/PRI2024/media.zip',\n",
       "  'media.zip'),\n",
       " (2,\n",
       "  'November 14, 2023 City of Santa Ana Special Recall Election',\n",
       "  'Plain-text extract for data analysis (media.zip).',\n",
       "  'https://www.ocvote.gov/fileadmin/live/sarcl2023/media.zip',\n",
       "  'media.zip'),\n",
       " (3,\n",
       "  'October\\xa03, 2023 City of Anaheim Special Municipal Election',\n",
       "  'Plain-text extract for data analysis (media.zip).',\n",
       "  'https://www.ocvote.gov/fileadmin/live/2023ANA/media.zip',\n",
       "  'media.zip'),\n",
       " (4,\n",
       "  'January 31, 2023 City of Seal Beach Districts 3 and 5 Municipal Run-Off Election',\n",
       "  'Plain-text extract for data analysis (media.zip).',\n",
       "  'https://www.ocvote.gov/fileadmin/live/SBea2023/media.zip',\n",
       "  'media.zip'),\n",
       " (5,\n",
       "  'November 8, 2022 General\\xa0Election Statement of Votes',\n",
       "  'Plain-text extract for data analysis (media.zip).',\n",
       "  'https://www.ocvote.gov/fileadmin/live/Gen2022/final/media.zip',\n",
       "  'media.zip'),\n",
       " (6,\n",
       "  'June 7, 2022 Statewide Direct Primary\\xa0Election Statement of Votes',\n",
       "  'Plain-text extract for data analysis (media.zip).',\n",
       "  'https://www.ocvote.gov/fileadmin/live/PRI2022/final/media.zip',\n",
       "  'media.zip'),\n",
       " (7,\n",
       "  'September 14, 2021\\xa02021 California Gubernatorial Recall Election\\xa0Election Statement of Votes',\n",
       "  'Plain-text extract for data analysis (media.zip).',\n",
       "  'https://www.ocvote.gov/fileadmin/live/CaRcl2021/media.zip',\n",
       "  'media.zip'),\n",
       " (8,\n",
       "  'March 9, 2021\\xa0Second Supervisorial District Vacancy\\xa0Election Statement of Votes',\n",
       "  'Plain-text extract for data analysis (media.zip).',\n",
       "  'https://www.ocvote.gov/fileadmin/live/2ndSup2021/media.zip',\n",
       "  'media.zip'),\n",
       " (9,\n",
       "  'November 3, 2020 Presidential General Election Statement of Votes',\n",
       "  'Plain-text extract for data analysis (media.zip).',\n",
       "  'https://www.ocvote.gov/sites/default/files/elections/gen2020/results/media.zip',\n",
       "  'media.zip'),\n",
       " (10,\n",
       "  'May 19, 2020 City of Santa Ana Special Recall Election Statement of Votes',\n",
       "  'Plain-text extract for data analysis (media.zip).',\n",
       "  'https://www.ocvote.gov/fileadmin/live/SARCL2020/media.zip',\n",
       "  'media.zip'),\n",
       " (11,\n",
       "  'April 7, 2020 City of Westminster Special Recall Election Statement of Votes',\n",
       "  'Plain-text extract for data analysis (media.zip).',\n",
       "  'https://www.ocvote.gov/sites/default/files/elections/wstrcl2020/data/media.zip',\n",
       "  'media.zip'),\n",
       " (12,\n",
       "  'March 3, 2020 Presidential Primary Election Statement of Votes',\n",
       "  'Plain-text extract for data analysis (media.zip).',\n",
       "  'https://www.ocvote.gov/sites/default/files/elections/pri2020/data/media.zip',\n",
       "  'media.zip'),\n",
       " (13,\n",
       "  'November\\xa05, 2019 General\\xa0District\\xa0Election\\xa0Statement of Votes',\n",
       "  'Plain-text extract for data analysis (media.zip).',\n",
       "  'https://www.ocvote.gov/fileadmin/live/GenDist19/media.zip',\n",
       "  'media.zip'),\n",
       " (14,\n",
       "  'March 12, 2019 Third Supervisorial District\\xa0Election\\xa0Statement of Votes',\n",
       "  'Plain-text extract for data analysis (media.zip).',\n",
       "  'https://www.ocvote.gov/fileadmin/live/ThirdSup/media.zip',\n",
       "  'media.zip'),\n",
       " (15,\n",
       "  'January 29, 2019 City of Seal Beach District 1 Municipal Run-Off Election\\xa0Statement of Votes\\xa0',\n",
       "  'Plain-text extract for data analysis (media.zip).',\n",
       "  'https://www.ocvote.gov/fileadmin/live/2019sbea/media.zip',\n",
       "  'media.zip'),\n",
       " (16,\n",
       "  'November 6, 2018 General\\xa0Election Statement of Votes\\xa0',\n",
       "  'Plain-text extract for data analysis (media.zip).',\n",
       "  'https://www.ocvote.gov/fileadmin/live/gen2018/media.zip',\n",
       "  'media.zip'),\n",
       " (17,\n",
       "  'June 5, 2018\\xa0Statewide Primary\\xa0Election Statement of Votes',\n",
       "  'Plain-text extract for data analysis (media.zip)',\n",
       "  'https://www.ocvote.gov/fileadmin/live/pri2018/media.zip',\n",
       "  'media.zip'),\n",
       " (18,\n",
       "  'January 2, 2018 City of\\xa0Lake Forest Special Recall Election Statement of Votes',\n",
       "  'Plain-text extract for data analysis (media.zip)',\n",
       "  'https://www.ocvote.gov/fileadmin/live/lfrcl2018/media.zip',\n",
       "  'media.zip'),\n",
       " (19,\n",
       "  'November 8, 2016 Presidential General\\xa0Election Statement of Votes',\n",
       "  'Plain-text extract for data analysis (media.zip)',\n",
       "  'https://www.ocvote.gov/fileadmin/live/gen2016/media.zip',\n",
       "  'media.zip'),\n",
       " (20,\n",
       "  'June 7, 2016 Presidential Primary Election Statement of Votes',\n",
       "  'Plain-text extract for data analysis (media.zip)',\n",
       "  'https://www.ocvote.gov/fileadmin/live/pri2016/media.zip',\n",
       "  'media.zip'),\n",
       " (21,\n",
       "  'March 1, 2016 Orange Unified School District Special Vacancy\\xa0Election Statement of Votes',\n",
       "  'Plain-text extract for data analysis',\n",
       "  'https://www.ocvote.gov/fileadmin/live/ousd2016/media.zip',\n",
       "  'media.zip'),\n",
       " (22,\n",
       "  'February\\xa09, 2016 North Orange County Community College District Special Vacancy\\xa0Election Statement of Votes',\n",
       "  'Plain-text Extract for Data Analysis',\n",
       "  'https://www.ocvote.gov/fileadmin/live/nocccd2016/media.zip',\n",
       "  'media.zip'),\n",
       " (23,\n",
       "  'May 19, 2015 City of Buena Park Special Municipal Election Statement of Votes',\n",
       "  'Plain-text Extract for Data Analysis',\n",
       "  'https://www.ocvote.gov/fileadmin/live/2015bpark/media.zip',\n",
       "  'media.zip'),\n",
       " (24,\n",
       "  'March 17, 2015 37th State Senate District Special Primary Election Statement of Votes',\n",
       "  'Plain-text Extract for Data Analysis',\n",
       "  'https://www.ocvote.gov/fileadmin/live/37sd2015/media.zip',\n",
       "  'media.zip'),\n",
       " (25,\n",
       "  'January 27, 2015 First Supervisorial District Vacancy\\xa0Election Statement of Votes',\n",
       "  'Plain-text Extract for Data Analysis',\n",
       "  'https://www.ocvote.gov/fileadmin/live/firstsup/media.zip',\n",
       "  'media.zip'),\n",
       " (26,\n",
       "  'November 4, 2014 Statewide General Election Statement of Votes',\n",
       "  'Plain-text Extract for Data Analysis',\n",
       "  'https://www.ocvote.gov/fileadmin/live/gen2014/Final/media.zip',\n",
       "  'media.zip'),\n",
       " (27,\n",
       "  'October 7,\\xa02014 Yorba Linda Special Recall\\xa0Election Statement of Votes',\n",
       "  'Plain-text Extract for Data Analysis',\n",
       "  'https://www.ocvote.gov/fileadmin/live/2014ylrcl/media.zip',\n",
       "  'media.zip'),\n",
       " (28,\n",
       "  'June 3, 2014 Statewide Direct Primary\\xa0Election Statement of Votes',\n",
       "  'Plain-text Extract for Data Analysis',\n",
       "  'https://www.ocvote.gov/fileadmin/live/pri2014/media.zip',\n",
       "  'media.zip'),\n",
       " (29,\n",
       "  'November 6, 2012 Presidential General\\xa0Election Statement of Votes',\n",
       "  'Plain-text Extract for Data Analysis',\n",
       "  'https://www.ocvote.gov/fileadmin/live/gen2012/media.zip',\n",
       "  'media.zip')]"
      ]
     },
     "execution_count": 167,
     "metadata": {},
     "output_type": "execute_result"
    }
   ],
   "source": [
    "# List to store the results\n",
    "link_list = []\n",
    "\n",
    "# Initialize the current election, link name and file name\n",
    "current_election = ''\n",
    "link = ''\n",
    "dl_filename = ''\n",
    "\n",
    "# Initialize list index\n",
    "index = 0\n",
    "\n",
    "# Loop through all <p> elements\n",
    "for element in list_of_values:\n",
    "    # Check if the element has a hyperlink\n",
    "    if 'a href=' in str(element):\n",
    "        link_type = element.string\n",
    "        link = url_prefix + element.find('a')['href']\n",
    "        dl_filename = link.rsplit('/', 1)[-1]\n",
    "        # Only record the link if it's a zip file (aka the plain-text extract)\n",
    "        if dl_filename[-3:] == 'zip':\n",
    "            link_list.append((index, current_election, link_type, link, dl_filename))\n",
    "            index = index + 1\n",
    "    \n",
    "    # Corrects for 2014-10-07 election where Statement of Votes has no link\n",
    "    elif current_election == 'October 7, 2014 Yorba Linda Special Recall Election Statement of Votes' and element.string == 'Statement of Votes':\n",
    "        pass\n",
    "\n",
    "    # Otherwise\n",
    "    else:\n",
    "        current_election = element.string\n",
    "\n",
    "link_list"
   ]
  },
  {
   "cell_type": "markdown",
   "metadata": {},
   "source": [
    "## Download files one by one and append to a dataframe\n",
    "\n",
    "To do this:\n",
    "- Set up the file for download\n",
    "- Download the remote zip file\n",
    "- Extract zip file (throw error if more than one file)\n",
    "- Union with full dataframe\n",
    "- Delete temp files"
   ]
  },
  {
   "cell_type": "markdown",
   "metadata": {},
   "source": [
    "### Define functions for parsing and appending"
   ]
  },
  {
   "cell_type": "code",
   "execution_count": 168,
   "metadata": {},
   "outputs": [],
   "source": [
    "def delete_file(path):\n",
    "    try:\n",
    "        # Delete the zip file if it exists\n",
    "        os.remove(path)\n",
    "    except Exception as e:\n",
    "        print(f\"Failed to delete zip file '{path}'. Reason: {e}\")\n",
    "\n",
    "def is_first_row_value(file_path, value):\n",
    "    with open(file_path, 'r', encoding='latin-1') as file:\n",
    "        reader = csv.reader(file)\n",
    "        first_row = next(reader)  # Get the first row\n",
    "        return value in first_row\n",
    "\n",
    "def detect_delimiter(file_path):\n",
    "    comma_count = 0\n",
    "    tab_count = 0\n",
    "    \n",
    "    with open(file_path, 'r', encoding='latin-1') as file:\n",
    "        # Read the first 3 lines\n",
    "        for _ in range(3):\n",
    "            line = file.readline()\n",
    "            if not line:\n",
    "                break\n",
    "            # Update the counts\n",
    "            comma_count += line.count(',')\n",
    "            tab_count += line.count('\\t')\n",
    "\n",
    "    # Determine the delimiter\n",
    "    if comma_count > tab_count:\n",
    "        delimiter = ','\n",
    "    elif tab_count > comma_count:\n",
    "        delimiter = '\\t'\n",
    "    else:\n",
    "        delimiter = None  # Could not determine\n",
    "\n",
    "    return delimiter"
   ]
  },
  {
   "cell_type": "markdown",
   "metadata": {},
   "source": [
    "### Download all files and append to a new dataframe"
   ]
  },
  {
   "cell_type": "code",
   "execution_count": 169,
   "metadata": {},
   "outputs": [],
   "source": [
    "full_df = pd.DataFrame()\n",
    "\n",
    "for item in link_list:\n",
    "    #print(f'--- Iteration {item[0]} ---')\n",
    "    # Set up the file for download\n",
    "    file_url = item[3] # Specify the URL of the file to download\n",
    "\n",
    "    # Define the temp file\n",
    "    local_tempfile = local_prefix + 'temp.zip'\n",
    "\n",
    "    # Send a GET request to the URL\n",
    "    dl_file = requests.get(file_url)\n",
    "\n",
    "    # Write the content of the response to a local file\n",
    "    with open(local_tempfile, 'wb') as file:\n",
    "        file.write(dl_file.content)\n",
    "\n",
    "    #print(f'File {file_url} was written to {local_tempfile}')\n",
    "\n",
    "    # Extract the zip file\n",
    "    with zipfile.ZipFile(local_tempfile, 'r') as zip_ref:\n",
    "        temp_filenames = zip_ref.namelist()\n",
    "        zip_ref.extractall(local_prefix)\n",
    "    \n",
    "    # Read all extracted files into a pandas dataframe\n",
    "    for name in temp_filenames:\n",
    "        # Check for delimiter changes and whether to skip first row\n",
    "        # Detect delimiter\n",
    "        detected_delimiter = detect_delimiter(local_prefix + name)\n",
    "        if detected_delimiter in [',', '\\t']:\n",
    "            # Check if '#FormatVersion 1' is in the first row\n",
    "            if is_first_row_value(local_prefix + name, '#FormatVersion 1'):\n",
    "                df = pd.read_csv(local_prefix + name, delimiter=detected_delimiter, skiprows=1, encoding='latin-1')\n",
    "            else:\n",
    "                df = pd.read_csv(local_prefix + name, delimiter=detected_delimiter, encoding='latin-1')\n",
    "        else:\n",
    "            print(f'Delimiter unknown. File {name} from {item[1]} was skipped.')\n",
    "        df['Election ID'] = item[0]\n",
    "        df['Election Name'] = item[1]\n",
    "\n",
    "        # Identify voters vs total voters column names\n",
    "        #columns_with_voters = df.columns[df.columns.str.contains('voters', case=False)]\n",
    "        #print(columns_with_voters)\n",
    "\n",
    "        # Identify ballots vs total ballots column names\n",
    "        #columns_with_ballots = df.columns[df.columns.str.contains('ballots', case=False)]\n",
    "        #print(columns_with_ballots)\n",
    "\n",
    "        # Identify votes vs total votes column names\n",
    "        #columns_with_votes = df.columns[df.columns.str.contains('votes', case=False)]\n",
    "        #print(columns_with_votes)\n",
    "        \n",
    "        full_df = pd.concat([df, full_df], ignore_index=True)\n",
    "\n",
    "    # Delete the zip file\n",
    "    delete_file(local_tempfile)\n",
    "\n",
    "    # Delete the extracted file\n",
    "    for name in temp_filenames:\n",
    "        delete_file(local_prefix + name)"
   ]
  },
  {
   "cell_type": "code",
   "execution_count": 170,
   "metadata": {},
   "outputs": [
    {
     "name": "stdout",
     "output_type": "stream",
     "text": [
      "         Precinct_Name  Split_Name  precinct_splitId  Reg_voters  Ballots  \\\n",
      "0               2001.0         NaN           28135.0       794.0    534.0   \n",
      "1               2001.0         NaN           28135.0       794.0    534.0   \n",
      "2               2001.0         NaN           28135.0       794.0    534.0   \n",
      "3               2001.0         NaN           28135.0       794.0    534.0   \n",
      "4               2001.0         NaN           28135.0       794.0    534.0   \n",
      "...                ...         ...               ...         ...      ...   \n",
      "2717209            NaN         NaN               NaN         NaN      NaN   \n",
      "2717210            NaN         NaN               NaN         NaN      NaN   \n",
      "2717211            NaN         NaN               NaN         NaN      NaN   \n",
      "2717212            NaN         NaN               NaN         NaN      NaN   \n",
      "2717213            NaN         NaN               NaN         NaN      NaN   \n",
      "\n",
      "         Reporting  Contest_id                 Contest_title Contest_party  \\\n",
      "0              1.0      1477.0  PRESIDENT AND VICE PRESIDENT           NaN   \n",
      "1              1.0      1477.0  PRESIDENT AND VICE PRESIDENT           NaN   \n",
      "2              1.0      1477.0  PRESIDENT AND VICE PRESIDENT           NaN   \n",
      "3              1.0      1477.0  PRESIDENT AND VICE PRESIDENT           NaN   \n",
      "4              1.0      1477.0  PRESIDENT AND VICE PRESIDENT           NaN   \n",
      "...            ...         ...                           ...           ...   \n",
      "2717209        NaN         NaN                           NaN           NaN   \n",
      "2717210        NaN         NaN                           NaN           NaN   \n",
      "2717211        NaN         NaN                           NaN           NaN   \n",
      "2717212        NaN         NaN                           NaN           NaN   \n",
      "2717213        NaN         NaN                           NaN           NaN   \n",
      "\n",
      "         Choice_id  ... Vote-by-Mail Votes Vote-by-Mail Overvotes  \\\n",
      "0           5308.0  ...                NaN                    NaN   \n",
      "1           5309.0  ...                NaN                    NaN   \n",
      "2           5310.0  ...                NaN                    NaN   \n",
      "3           5311.0  ...                NaN                    NaN   \n",
      "4           5312.0  ...                NaN                    NaN   \n",
      "...            ...  ...                ...                    ...   \n",
      "2717209        NaN  ...                NaN                    NaN   \n",
      "2717210        NaN  ...                NaN                    NaN   \n",
      "2717211        NaN  ...                NaN                    NaN   \n",
      "2717212        NaN  ...                NaN                    NaN   \n",
      "2717213        NaN  ...                NaN                    NaN   \n",
      "\n",
      "        Vote-by-Mail Undervotes  Vote-by-Mail Invalid Votes  \\\n",
      "0                           NaN                         NaN   \n",
      "1                           NaN                         NaN   \n",
      "2                           NaN                         NaN   \n",
      "3                           NaN                         NaN   \n",
      "4                           NaN                         NaN   \n",
      "...                         ...                         ...   \n",
      "2717209                     NaN                         NaN   \n",
      "2717210                     NaN                         NaN   \n",
      "2717211                     NaN                         NaN   \n",
      "2717212                     NaN                         NaN   \n",
      "2717213                     NaN                         NaN   \n",
      "\n",
      "         Vote Center Votes  Vote Center Overvotes  Vote Center Undervotes  \\\n",
      "0                      NaN                    NaN                     NaN   \n",
      "1                      NaN                    NaN                     NaN   \n",
      "2                      NaN                    NaN                     NaN   \n",
      "3                      NaN                    NaN                     NaN   \n",
      "4                      NaN                    NaN                     NaN   \n",
      "...                    ...                    ...                     ...   \n",
      "2717209                0.0                    0.0                     0.0   \n",
      "2717210                6.0                    0.0                     0.0   \n",
      "2717211                3.0                    0.0                     0.0   \n",
      "2717212                0.0                    0.0                     0.0   \n",
      "2717213                0.0                    0.0                     0.0   \n",
      "\n",
      "        Vote Center Invalid Votes  .Precinct  Ballots_cast  \n",
      "0                             NaN        NaN           NaN  \n",
      "1                             NaN        NaN           NaN  \n",
      "2                             NaN        NaN           NaN  \n",
      "3                             NaN        NaN           NaN  \n",
      "4                             NaN        NaN           NaN  \n",
      "...                           ...        ...           ...  \n",
      "2717209                       0.0     2813.0           NaN  \n",
      "2717210                       0.0     2834.0           NaN  \n",
      "2717211                       0.0     2834.0           NaN  \n",
      "2717212                       0.0    99999.0           NaN  \n",
      "2717213                       0.0    99999.0           NaN  \n",
      "\n",
      "[2717214 rows x 89 columns]\n"
     ]
    }
   ],
   "source": [
    "print(full_df)"
   ]
  },
  {
   "cell_type": "markdown",
   "metadata": {},
   "source": [
    "## Transform the data\n",
    "\n",
    "To do this:\n",
    "- Split the dataframe into Precinct data and Election data\n",
    "- Aggregate Precinct data to get to the right level of detail\n",
    "- Additional cleaning as needed\n",
    "- Export Precinct data and Election data to csv for Tableau ingestion"
   ]
  },
  {
   "cell_type": "code",
   "execution_count": 171,
   "metadata": {},
   "outputs": [
    {
     "name": "stdout",
     "output_type": "stream",
     "text": [
      "['#Precinct', '.Precinct', 'AI Ballots Cast', 'AI Turnout Percentage', 'AI Voters', 'Absentee_votes', 'Ballots', 'Ballots Cast', 'Ballots_cast', 'Candidate_Type', 'Candidate_name', 'Choice ID', 'Choice Name', 'Choice Party', 'Choice_id', 'Choice_party', 'Contest ID', 'Contest Party', 'Contest Title', 'Contest_id', 'Contest_party', 'Contest_title', 'DEM Ballots Cast', 'DEM Turnout Percentage', 'DEM Voters', 'Early VC Invalid Votes', 'Early VC Overvotes', 'Early VC Undervotes', 'Early VC Votes', 'Early Vote Center Invalid Votes', 'Early Vote Center Overvotes', 'Early Vote Center Undervotes', 'Early Vote Center Votes', 'Early_votes', 'Election Day Vote Center Invalid Votes', 'Election Day Vote Center Overvotes', 'Election Day Vote Center Undervotes', 'Election Day Vote Center Votes', 'Election Days VC Invalid Votes', 'Election Days VC Overvotes', 'Election Days VC Undervotes', 'Election Days VC Votes', 'Election Days Vote Center Invalid Votes', 'Election Days Vote Center Overvotes', 'Election Days Vote Center Undervotes', 'Election Days Vote Center Votes', 'Election ID', 'Election Name', 'Election_Votes', 'GRN Ballots Cast', 'GRN Turnout Percentage', 'GRN Voters', 'LIB Ballots Cast', 'LIB Turnout Percentage', 'LIB Voters', 'N/P Ballots Cast', 'N/P Turnout Percentage', 'N/P Voters', 'P/F Ballots Cast', 'P/F Turnout Percentage', 'P/F Voters', 'Precinct ID', 'Precinct Reporting', 'Precinct_Name', 'REP Ballots Cast', 'REP Turnout Percentage', 'REP Voters', 'Reg_voters', 'Registered Voters', 'Reporting', 'Split_Name', 'Total Invalid Votes', 'Total Overvotes', 'Total Undervotes', 'Total Votes', 'Turnout Percentage', 'Vote Center Invalid Votes', 'Vote Center Overvotes', 'Vote Center Undervotes', 'Vote Center Votes', 'Vote by Mail Invalid Votes', 'Vote by Mail Overvotes', 'Vote by Mail Undervotes', 'Vote by Mail Votes', 'Vote-by-Mail Invalid Votes', 'Vote-by-Mail Overvotes', 'Vote-by-Mail Undervotes', 'Vote-by-Mail Votes', 'precinct_splitId']\n"
     ]
    }
   ],
   "source": [
    "#print(full_df.head())\n",
    "col_list = full_df.columns.to_list()\n",
    "print(sorted(col_list))"
   ]
  },
  {
   "cell_type": "markdown",
   "metadata": {},
   "source": [
    "### Build Precinct data"
   ]
  },
  {
   "cell_type": "code",
   "execution_count": 172,
   "metadata": {},
   "outputs": [],
   "source": [
    "precinct_data = pd.DataFrame()\n",
    "\n",
    "# Coalesce dimensions\n",
    "precinct_data['precinct'] = full_df.loc[:, ('#Precinct', '.Precinct', 'Precinct_Name')].bfill(axis=1).iloc[:, 0]\n",
    "precinct_data['election_id'] = full_df['Election ID'].copy().astype(int)"
   ]
  },
  {
   "cell_type": "code",
   "execution_count": 173,
   "metadata": {},
   "outputs": [
    {
     "name": "stdout",
     "output_type": "stream",
     "text": [
      "         precinct  election_id  Reg_voters  DEM Voters  REP Voters  AI Voters  \\\n",
      "0          2001.0           29       794.0         NaN         NaN        NaN   \n",
      "1          2001.0           29       794.0         NaN         NaN        NaN   \n",
      "2          2001.0           29       794.0         NaN         NaN        NaN   \n",
      "3          2001.0           29       794.0         NaN         NaN        NaN   \n",
      "4          2001.0           29       794.0         NaN         NaN        NaN   \n",
      "...           ...          ...         ...         ...         ...        ...   \n",
      "2717209    2813.0            0         NaN         NaN         NaN        NaN   \n",
      "2717210    2834.0            0         NaN         NaN         NaN        NaN   \n",
      "2717211    2834.0            0         NaN         NaN         NaN        NaN   \n",
      "2717212   99999.0            0         NaN         NaN         NaN        NaN   \n",
      "2717213   99999.0            0         NaN         NaN         NaN        NaN   \n",
      "\n",
      "         GRN Voters  LIB Voters  P/F Voters  N/P Voters  Registered Voters  \n",
      "0               NaN         NaN         NaN         NaN                NaN  \n",
      "1               NaN         NaN         NaN         NaN                NaN  \n",
      "2               NaN         NaN         NaN         NaN                NaN  \n",
      "3               NaN         NaN         NaN         NaN                NaN  \n",
      "4               NaN         NaN         NaN         NaN                NaN  \n",
      "...             ...         ...         ...         ...                ...  \n",
      "2717209         NaN         NaN         NaN         NaN                0.0  \n",
      "2717210         NaN         NaN         NaN         NaN              415.0  \n",
      "2717211         NaN         NaN         NaN         NaN              415.0  \n",
      "2717212         NaN         NaN         NaN         NaN               38.0  \n",
      "2717213         NaN         NaN         NaN         NaN               38.0  \n",
      "\n",
      "[2717214 rows x 11 columns]\n"
     ]
    }
   ],
   "source": [
    "# Add columns we'll use to calculate registered voters after aggregation\n",
    "voters = pd.DataFrame()\n",
    "filtered_columns_voters = [col for col in full_df.columns if 'voters' in col.lower()]\n",
    "voters = full_df[filtered_columns_voters].copy()\n",
    "precinct_data = precinct_data.join(voters)\n",
    "print(precinct_data)"
   ]
  },
  {
   "cell_type": "code",
   "execution_count": 174,
   "metadata": {},
   "outputs": [
    {
     "name": "stdout",
     "output_type": "stream",
     "text": [
      "         precinct  election_id  Reg_voters  DEM Voters  REP Voters  AI Voters  \\\n",
      "0          2001.0           29       794.0         NaN         NaN        NaN   \n",
      "1          2001.0           29       794.0         NaN         NaN        NaN   \n",
      "2          2001.0           29       794.0         NaN         NaN        NaN   \n",
      "3          2001.0           29       794.0         NaN         NaN        NaN   \n",
      "4          2001.0           29       794.0         NaN         NaN        NaN   \n",
      "...           ...          ...         ...         ...         ...        ...   \n",
      "2717209    2813.0            0         NaN         NaN         NaN        NaN   \n",
      "2717210    2834.0            0         NaN         NaN         NaN        NaN   \n",
      "2717211    2834.0            0         NaN         NaN         NaN        NaN   \n",
      "2717212   99999.0            0         NaN         NaN         NaN        NaN   \n",
      "2717213   99999.0            0         NaN         NaN         NaN        NaN   \n",
      "\n",
      "         GRN Voters  LIB Voters  P/F Voters  N/P Voters  ...  Ballots  \\\n",
      "0               NaN         NaN         NaN         NaN  ...    534.0   \n",
      "1               NaN         NaN         NaN         NaN  ...    534.0   \n",
      "2               NaN         NaN         NaN         NaN  ...    534.0   \n",
      "3               NaN         NaN         NaN         NaN  ...    534.0   \n",
      "4               NaN         NaN         NaN         NaN  ...    534.0   \n",
      "...             ...         ...         ...         ...  ...      ...   \n",
      "2717209         NaN         NaN         NaN         NaN  ...      NaN   \n",
      "2717210         NaN         NaN         NaN         NaN  ...      NaN   \n",
      "2717211         NaN         NaN         NaN         NaN  ...      NaN   \n",
      "2717212         NaN         NaN         NaN         NaN  ...      NaN   \n",
      "2717213         NaN         NaN         NaN         NaN  ...      NaN   \n",
      "\n",
      "         DEM Ballots Cast  REP Ballots Cast  AI Ballots Cast  \\\n",
      "0                     NaN               NaN              NaN   \n",
      "1                     NaN               NaN              NaN   \n",
      "2                     NaN               NaN              NaN   \n",
      "3                     NaN               NaN              NaN   \n",
      "4                     NaN               NaN              NaN   \n",
      "...                   ...               ...              ...   \n",
      "2717209               NaN               NaN              NaN   \n",
      "2717210               NaN               NaN              NaN   \n",
      "2717211               NaN               NaN              NaN   \n",
      "2717212               NaN               NaN              NaN   \n",
      "2717213               NaN               NaN              NaN   \n",
      "\n",
      "         GRN Ballots Cast  LIB Ballots Cast  P/F Ballots Cast  \\\n",
      "0                     NaN               NaN               NaN   \n",
      "1                     NaN               NaN               NaN   \n",
      "2                     NaN               NaN               NaN   \n",
      "3                     NaN               NaN               NaN   \n",
      "4                     NaN               NaN               NaN   \n",
      "...                   ...               ...               ...   \n",
      "2717209               NaN               NaN               NaN   \n",
      "2717210               NaN               NaN               NaN   \n",
      "2717211               NaN               NaN               NaN   \n",
      "2717212               NaN               NaN               NaN   \n",
      "2717213               NaN               NaN               NaN   \n",
      "\n",
      "         N/P Ballots Cast  Ballots Cast  Ballots_cast  \n",
      "0                     NaN           NaN           NaN  \n",
      "1                     NaN           NaN           NaN  \n",
      "2                     NaN           NaN           NaN  \n",
      "3                     NaN           NaN           NaN  \n",
      "4                     NaN           NaN           NaN  \n",
      "...                   ...           ...           ...  \n",
      "2717209               NaN           0.0           NaN  \n",
      "2717210               NaN          84.0           NaN  \n",
      "2717211               NaN          84.0           NaN  \n",
      "2717212               NaN           4.0           NaN  \n",
      "2717213               NaN           4.0           NaN  \n",
      "\n",
      "[2717214 rows x 21 columns]\n"
     ]
    }
   ],
   "source": [
    "# Add columns we'll use to calculate ballots cast after aggregation\n",
    "ballots = pd.DataFrame()\n",
    "filtered_columns_ballots = [col for col in full_df.columns if 'ballots' in col.lower()]\n",
    "ballots = full_df[filtered_columns_ballots].copy()\n",
    "precinct_data = precinct_data.join(ballots)\n",
    "print(precinct_data)"
   ]
  },
  {
   "cell_type": "code",
   "execution_count": 175,
   "metadata": {},
   "outputs": [],
   "source": [
    "# Sum measures\n",
    "## Voters\n",
    "#mask_voters = full_df.columns.str.contains('Voters|voters')\n",
    "#voters = full_df.loc[:, mask_voters]\n",
    "#precinct_data['registered_voters'] = voters.sum(axis=1)\n",
    "\n",
    "## Ballots\n",
    "#mask_ballots = full_df.columns.str.contains('Ballots|ballots')\n",
    "#ballots = full_df.loc[:, mask_ballots]\n",
    "#precinct_data['ballots_cast'] = ballots.sum(axis=1)"
   ]
  },
  {
   "cell_type": "markdown",
   "metadata": {},
   "source": [
    "### Build Election data"
   ]
  },
  {
   "cell_type": "code",
   "execution_count": 176,
   "metadata": {},
   "outputs": [],
   "source": [
    "election_data = pd.DataFrame()\n",
    "\n",
    "# Coalesce dimensions\n",
    "election_data['precinct']       = precinct_data['precinct']\n",
    "election_data['election_id']    = precinct_data['election_id']\n",
    "election_data['election_name']  = full_df['Election Name'].copy()\n",
    "election_data['contest_id']     = full_df['Contest ID'].combine_first(full_df['Contest_id'])\n",
    "election_data['contest_party']  = full_df['Contest Party'].combine_first(full_df['Contest_party'])\n",
    "election_data['contest_title']  = full_df['Contest Title'].combine_first(full_df['Contest_title'])\n",
    "election_data['choice_id']      = full_df['Choice ID'].combine_first(full_df['Choice_id'])\n",
    "election_data['choice_name']    = full_df['Choice Name'].combine_first(full_df['Candidate_name'])\n",
    "election_data['choice_party']   = full_df['Choice Party'].combine_first(full_df['Choice_party'])\n",
    "election_data['choice_type']    = full_df['Candidate_Type']"
   ]
  },
  {
   "cell_type": "markdown",
   "metadata": {},
   "source": [
    "# ! BUG - this doubles votes where there are totals"
   ]
  },
  {
   "cell_type": "code",
   "execution_count": 177,
   "metadata": {},
   "outputs": [],
   "source": [
    "# Sum measures\n",
    "## Votes\n",
    "#mask_votes = full_df.columns.str.contains('votes', case=False) & ~full_df.columns.str.contains('total', case=False)\n",
    "#votes = full_df.loc[:, mask_votes]\n",
    "#election_data['total_votes'] = votes.sum(axis=1)"
   ]
  },
  {
   "cell_type": "code",
   "execution_count": 178,
   "metadata": {},
   "outputs": [
    {
     "name": "stdout",
     "output_type": "stream",
     "text": [
      "         Absentee_votes  Early_votes  Election_Votes  Total Votes  \\\n",
      "0                   0.0          0.0            13.0         13.0   \n",
      "1                 126.0          0.0           197.0        323.0   \n",
      "2                   1.0          0.0             1.0          2.0   \n",
      "3                 100.0          0.0            57.0        157.0   \n",
      "4                   3.0          0.0             0.0          3.0   \n",
      "...                 ...          ...             ...          ...   \n",
      "2717209             NaN          NaN             NaN          0.0   \n",
      "2717210             NaN          NaN             NaN         48.0   \n",
      "2717211             NaN          NaN             NaN         36.0   \n",
      "2717212             NaN          NaN             NaN          2.0   \n",
      "2717213             NaN          NaN             NaN          2.0   \n",
      "\n",
      "         Total Overvotes  Total Undervotes  Total Invalid Votes  \\\n",
      "0                    NaN               NaN                  NaN   \n",
      "1                    NaN               NaN                  NaN   \n",
      "2                    NaN               NaN                  NaN   \n",
      "3                    NaN               NaN                  NaN   \n",
      "4                    NaN               NaN                  NaN   \n",
      "...                  ...               ...                  ...   \n",
      "2717209              0.0               0.0                  0.0   \n",
      "2717210              0.0               0.0                  0.0   \n",
      "2717211              0.0               0.0                  0.0   \n",
      "2717212              0.0               0.0                  0.0   \n",
      "2717213              0.0               0.0                  0.0   \n",
      "\n",
      "         Early VC Votes  Early VC Overvotes  Early VC Undervotes  ...  \\\n",
      "0                   NaN                 NaN                  NaN  ...   \n",
      "1                   NaN                 NaN                  NaN  ...   \n",
      "2                   NaN                 NaN                  NaN  ...   \n",
      "3                   NaN                 NaN                  NaN  ...   \n",
      "4                   NaN                 NaN                  NaN  ...   \n",
      "...                 ...                 ...                  ...  ...   \n",
      "2717209             NaN                 NaN                  NaN  ...   \n",
      "2717210             NaN                 NaN                  NaN  ...   \n",
      "2717211             NaN                 NaN                  NaN  ...   \n",
      "2717212             NaN                 NaN                  NaN  ...   \n",
      "2717213             NaN                 NaN                  NaN  ...   \n",
      "\n",
      "         Election Day Vote Center Undervotes  \\\n",
      "0                                        NaN   \n",
      "1                                        NaN   \n",
      "2                                        NaN   \n",
      "3                                        NaN   \n",
      "4                                        NaN   \n",
      "...                                      ...   \n",
      "2717209                                  NaN   \n",
      "2717210                                  NaN   \n",
      "2717211                                  NaN   \n",
      "2717212                                  NaN   \n",
      "2717213                                  NaN   \n",
      "\n",
      "         Election Day Vote Center Invalid Votes  Vote-by-Mail Votes  \\\n",
      "0                                           NaN                 NaN   \n",
      "1                                           NaN                 NaN   \n",
      "2                                           NaN                 NaN   \n",
      "3                                           NaN                 NaN   \n",
      "4                                           NaN                 NaN   \n",
      "...                                         ...                 ...   \n",
      "2717209                                     NaN                 NaN   \n",
      "2717210                                     NaN                 NaN   \n",
      "2717211                                     NaN                 NaN   \n",
      "2717212                                     NaN                 NaN   \n",
      "2717213                                     NaN                 NaN   \n",
      "\n",
      "         Vote-by-Mail Overvotes  Vote-by-Mail Undervotes  \\\n",
      "0                           NaN                      NaN   \n",
      "1                           NaN                      NaN   \n",
      "2                           NaN                      NaN   \n",
      "3                           NaN                      NaN   \n",
      "4                           NaN                      NaN   \n",
      "...                         ...                      ...   \n",
      "2717209                     NaN                      NaN   \n",
      "2717210                     NaN                      NaN   \n",
      "2717211                     NaN                      NaN   \n",
      "2717212                     NaN                      NaN   \n",
      "2717213                     NaN                      NaN   \n",
      "\n",
      "         Vote-by-Mail Invalid Votes  Vote Center Votes  Vote Center Overvotes  \\\n",
      "0                               NaN                NaN                    NaN   \n",
      "1                               NaN                NaN                    NaN   \n",
      "2                               NaN                NaN                    NaN   \n",
      "3                               NaN                NaN                    NaN   \n",
      "4                               NaN                NaN                    NaN   \n",
      "...                             ...                ...                    ...   \n",
      "2717209                         NaN                0.0                    0.0   \n",
      "2717210                         NaN                6.0                    0.0   \n",
      "2717211                         NaN                3.0                    0.0   \n",
      "2717212                         NaN                0.0                    0.0   \n",
      "2717213                         NaN                0.0                    0.0   \n",
      "\n",
      "         Vote Center Undervotes  Vote Center Invalid Votes  \n",
      "0                           NaN                        NaN  \n",
      "1                           NaN                        NaN  \n",
      "2                           NaN                        NaN  \n",
      "3                           NaN                        NaN  \n",
      "4                           NaN                        NaN  \n",
      "...                         ...                        ...  \n",
      "2717209                     0.0                        0.0  \n",
      "2717210                     0.0                        0.0  \n",
      "2717211                     0.0                        0.0  \n",
      "2717212                     0.0                        0.0  \n",
      "2717213                     0.0                        0.0  \n",
      "\n",
      "[2717214 rows x 39 columns]\n"
     ]
    }
   ],
   "source": [
    "# Sum measures\n",
    "## Votes\n",
    "## Later elections have a 'Total Votes' column, where earlier elections are split by absentee/early/election.\n",
    "votes = pd.DataFrame()\n",
    "\n",
    "# Create a temp df from columns containing 'votes'\n",
    "mask_votes = full_df.columns.str.contains('votes', case=False)\n",
    "votes = full_df.loc[:, mask_votes].copy()\n",
    "\n",
    "# If 'Total Votes' = NULL then sum up the other columns\n",
    "votes['Total Votes'] = votes.apply(\n",
    "    lambda row: row.drop('Total Votes').sum() \n",
    "    if pd.isna(row['Total Votes']) else row['Total Votes'], \n",
    "    axis=1\n",
    ")\n",
    "print(votes)\n"
   ]
  },
  {
   "cell_type": "code",
   "execution_count": 179,
   "metadata": {},
   "outputs": [],
   "source": [
    "election_data['votes_cast'] = votes['Total Votes']"
   ]
  },
  {
   "cell_type": "markdown",
   "metadata": {},
   "source": [
    "### Aggregate Precinct data to correct level of details (by precinct)"
   ]
  },
  {
   "cell_type": "code",
   "execution_count": 180,
   "metadata": {},
   "outputs": [],
   "source": [
    "precinct_data = precinct_data.groupby(['precinct', 'election_id']).min().reset_index()"
   ]
  },
  {
   "cell_type": "markdown",
   "metadata": {},
   "source": [
    "### Calculate registered voters"
   ]
  },
  {
   "cell_type": "code",
   "execution_count": 181,
   "metadata": {},
   "outputs": [],
   "source": [
    "# Calculate registered voters (only do this after aggregation)\n",
    "voters = pd.DataFrame()\n",
    "\n",
    "# Create a temp df from columns containing 'voters'\n",
    "mask_voters = precinct_data.columns.str.contains('voters', case=False)\n",
    "voters = precinct_data.loc[:, mask_voters].copy()\n",
    "\n",
    "# Coalesce 'Registered Voters' etc.\n",
    "voters['registered_voters'] = voters['Registered Voters'].combine_first(voters['Reg_voters'])\n",
    "\n",
    "# If registered_voters = NULL then sum up the other columns\n",
    "voters['registered_voters'] = voters.apply(\n",
    "    lambda row: row.drop(columns=['Registered Voters', 'Reg_voters', 'registered_voters']).sum()\n",
    "    if pd.isna(row['registered_voters']) else row['registered_voters'],\n",
    "    axis=1\n",
    ")"
   ]
  },
  {
   "cell_type": "code",
   "execution_count": 182,
   "metadata": {},
   "outputs": [],
   "source": [
    "# Join voters result back to precinct_data\n",
    "precinct_data = precinct_data.join(voters['registered_voters'])"
   ]
  },
  {
   "cell_type": "code",
   "execution_count": 183,
   "metadata": {},
   "outputs": [],
   "source": [
    "# Drop unnecessary voter columns\n",
    "columns_to_drop = [col for col in precinct_data.columns if 'voters' in col.lower() and col != 'registered_voters']\n",
    "precinct_data = precinct_data.drop(columns=columns_to_drop)"
   ]
  },
  {
   "cell_type": "markdown",
   "metadata": {},
   "source": [
    "### Calculate ballots cast"
   ]
  },
  {
   "cell_type": "code",
   "execution_count": 184,
   "metadata": {},
   "outputs": [],
   "source": [
    "# Calculate ballots cast (only do this after aggregation)\n",
    "ballots = pd.DataFrame()\n",
    "\n",
    "# Create a temp df from columns containing 'ballots'\n",
    "mask_ballots = precinct_data.columns.str.contains('ballots', case=False)\n",
    "ballots = precinct_data.loc[:, mask_ballots].copy()"
   ]
  },
  {
   "cell_type": "code",
   "execution_count": 185,
   "metadata": {},
   "outputs": [],
   "source": [
    "# Coalesce 'Ballots Cast' etc.\n",
    "ballots['ballots_cast'] = ballots.loc[:, ('Ballots Cast', 'Ballots_cast', 'Ballots')].bfill(axis=1).iloc[:, 0]\n",
    "\n",
    "# If ballots_cast = NULL then sum up the other columns\n",
    "ballots['ballots_cast'] = ballots.apply(\n",
    "    lambda row: row.drop('ballots_cast').sum()\n",
    "    if pd.isna(row['ballots_cast']) else row['ballots_cast'],\n",
    "    axis=1\n",
    ")"
   ]
  },
  {
   "cell_type": "code",
   "execution_count": 186,
   "metadata": {},
   "outputs": [],
   "source": [
    "# Join ballots result back to precinct_data\n",
    "precinct_data = precinct_data.join(ballots['ballots_cast'])"
   ]
  },
  {
   "cell_type": "code",
   "execution_count": 187,
   "metadata": {},
   "outputs": [
    {
     "name": "stdout",
     "output_type": "stream",
     "text": [
      "       precinct  election_id  registered_voters  ballots_cast\n",
      "0        2001.0            0              594.0         101.0\n",
      "1        2001.0            1              589.0          64.0\n",
      "2        2001.0            3              568.0          74.0\n",
      "3        2001.0            5              556.0         113.0\n",
      "4        2001.0            6              550.0          71.0\n",
      "...         ...          ...                ...           ...\n",
      "25417   99999.0            2               52.0           7.0\n",
      "25418   99999.0            3              423.0          46.0\n",
      "25419   99999.0            4               90.0          10.0\n",
      "25420   99999.0            5                1.0           1.0\n",
      "25421   99999.0            6               19.0           4.0\n",
      "\n",
      "[25422 rows x 4 columns]\n"
     ]
    }
   ],
   "source": [
    "# Drop unnecessary ballot columns\n",
    "columns_to_drop = [col for col in precinct_data.columns if 'ballots' in col.lower() and col != 'ballots_cast']\n",
    "precinct_data = precinct_data.drop(columns=columns_to_drop)\n",
    "print(precinct_data)"
   ]
  },
  {
   "cell_type": "markdown",
   "metadata": {},
   "source": [
    "### Set Precinct data types"
   ]
  },
  {
   "cell_type": "code",
   "execution_count": 188,
   "metadata": {},
   "outputs": [],
   "source": [
    "# Assign data types\n",
    "precinct_data = precinct_data.astype({\n",
    "    'precinct': 'int'\n",
    "    , 'election_id': 'int'\n",
    "    , 'registered_voters': 'int'\n",
    "    , 'ballots_cast': 'int'\n",
    "})"
   ]
  },
  {
   "cell_type": "markdown",
   "metadata": {},
   "source": [
    "### Set Election data types"
   ]
  },
  {
   "cell_type": "code",
   "execution_count": 189,
   "metadata": {},
   "outputs": [],
   "source": [
    "# Assign data types\n",
    "election_data = election_data.astype({\n",
    "    'precinct': 'int'\n",
    "    , 'election_id': 'int'\n",
    "    , 'election_name': 'str'\n",
    "    , 'contest_id': 'int'\n",
    "    , 'contest_party': 'str'\n",
    "    , 'contest_title': 'str'\n",
    "    , 'choice_id': 'int'\n",
    "    , 'choice_name': 'str'\n",
    "    , 'choice_party': 'str'\n",
    "    , 'choice_type': 'str'\n",
    "    , 'votes_cast' : 'int'\n",
    "})"
   ]
  },
  {
   "cell_type": "code",
   "execution_count": 190,
   "metadata": {},
   "outputs": [
    {
     "name": "stdout",
     "output_type": "stream",
     "text": [
      "Precinct data has 25422 rows and 4 columns.\n",
      "Election data has 2717214 rows and 11 columns.\n"
     ]
    }
   ],
   "source": [
    "precinct_rows, precinct_columns = precinct_data.shape\n",
    "election_rows, election_columns = election_data.shape\n",
    "print(f'Precinct data has {precinct_rows} rows and {precinct_columns} columns.')\n",
    "print(f'Election data has {election_rows} rows and {election_columns} columns.')"
   ]
  },
  {
   "cell_type": "markdown",
   "metadata": {},
   "source": [
    "## Export to CSV"
   ]
  },
  {
   "cell_type": "code",
   "execution_count": 191,
   "metadata": {},
   "outputs": [],
   "source": [
    "precinct_data.to_csv(local_prefix + 'precincts.csv', index=False)\n",
    "election_data.to_csv(local_prefix + 'elections.csv', index=False)"
   ]
  }
 ],
 "metadata": {
  "kernelspec": {
   "display_name": "Python 3",
   "language": "python",
   "name": "python3"
  },
  "language_info": {
   "codemirror_mode": {
    "name": "ipython",
    "version": 3
   },
   "file_extension": ".py",
   "mimetype": "text/x-python",
   "name": "python",
   "nbconvert_exporter": "python",
   "pygments_lexer": "ipython3",
   "version": "3.9.6"
  }
 },
 "nbformat": 4,
 "nbformat_minor": 2
}
